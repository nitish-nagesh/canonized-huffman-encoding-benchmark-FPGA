{
 "cells": [
  {
   "cell_type": "code",
   "execution_count": 4,
   "metadata": {},
   "outputs": [],
   "source": [
    "# %matplotlib notebook\n",
    "import numpy as np\n",
    "import pandas as pd\n",
    "import matplotlib.pyplot as plt"
   ]
  },
  {
   "cell_type": "code",
   "execution_count": 33,
   "metadata": {},
   "outputs": [],
   "source": [
    "data = pd.read_csv(\"final_result_impl_huffman.csv\")\n",
    "y = list(map(lambda x: 1/x, list(data['obj2'])))\n",
    "x = list(data['obj1'])\n",
    "#data['obj2'].transform(lambda x: 1/x)"
   ]
  },
  {
   "cell_type": "code",
   "execution_count": 46,
   "metadata": {},
   "outputs": [],
   "source": [
    "color_list = [\"blue\"] * len(x)\n",
    "for i in range(len(x)):\n",
    "#    if data['copy1'][i] <= 4 and data['createtree'][i] < 2 and data['createtree_partition'][i] < 4:\n",
    "    if data['copy1'][i] == 16:\n",
    "        color_list[i] = \"orange\""
   ]
  },
  {
   "cell_type": "code",
   "execution_count": 14,
   "metadata": {},
   "outputs": [
    {
     "data": {
      "text/plain": [
       "design                      1069.735507\n",
       "copy0                          8.489130\n",
       "copy1                          1.978261\n",
       "processsymbols                 2.398551\n",
       "createtree                     1.130435\n",
       "createtree_partition           1.750000\n",
       "assigncodeword                 2.391304\n",
       "assigncodeword_partition       2.336957\n",
       "obj1                          36.830341\n",
       "obj2                        1125.862319\n",
       "dtype: float64"
      ]
     },
     "execution_count": 14,
     "metadata": {},
     "output_type": "execute_result"
    }
   ],
   "source": [
    "fast = data['obj1'] > 36\n",
    "fast_nodes = data[fast]\n",
    "fast_nodes.mean()"
   ]
  },
  {
   "cell_type": "code",
   "execution_count": 15,
   "metadata": {},
   "outputs": [
    {
     "data": {
      "text/plain": [
       "design                      1091.704617\n",
       "copy0                          7.288425\n",
       "copy1                          6.110057\n",
       "processsymbols                 2.316256\n",
       "createtree                     2.361796\n",
       "createtree_partition           2.413662\n",
       "assigncodeword                 2.330171\n",
       "assigncodeword_partition       2.335863\n",
       "obj1                          32.396803\n",
       "obj2                        1815.975332\n",
       "dtype: float64"
      ]
     },
     "execution_count": 15,
     "metadata": {},
     "output_type": "execute_result"
    }
   ],
   "source": [
    "not_fast = data['obj1'] <= 36\n",
    "everything_else = data[not_fast]\n",
    "everything_else.mean()"
   ]
  },
  {
   "cell_type": "code",
   "execution_count": 16,
   "metadata": {},
   "outputs": [
    {
     "name": "stdout",
     "output_type": "stream",
     "text": [
      "Ttest_indResult(statistic=2.7890159771978333, pvalue=0.0053408413586514625)\n",
      "Ttest_indResult(statistic=-11.360380054816128, pvalue=5.821771642265925e-29)\n",
      "Ttest_indResult(statistic=1.0106706048977607, pvalue=0.3123059194840935)\n",
      "Ttest_indResult(statistic=-16.545174007740727, pvalue=1.8460862683315707e-57)\n",
      "Ttest_indResult(statistic=-8.299431826654729, pvalue=1.9881542419706124e-16)\n",
      "Ttest_indResult(statistic=0.7487968699227123, pvalue=0.45407457982865407)\n",
      "Ttest_indResult(statistic=0.013419637007028513, pvalue=0.9892944432539043)\n"
     ]
    }
   ],
   "source": [
    "from scipy.stats import ttest_ind\n",
    "\n",
    "print(ttest_ind(fast_nodes['copy0'], everything_else['copy0']))\n",
    "print(ttest_ind(fast_nodes['copy1'], everything_else['copy1']))\n",
    "print(ttest_ind(fast_nodes['processsymbols'], everything_else['processsymbols']))\n",
    "print(ttest_ind(fast_nodes['createtree'], everything_else['createtree']))\n",
    "print(ttest_ind(fast_nodes['createtree_partition'], everything_else['createtree_partition']))\n",
    "print(ttest_ind(fast_nodes['assigncodeword'], everything_else['assigncodeword']))\n",
    "print(ttest_ind(fast_nodes['assigncodeword_partition'], everything_else['assigncodeword_partition']))"
   ]
  },
  {
   "cell_type": "code",
   "execution_count": 38,
   "metadata": {},
   "outputs": [
    {
     "name": "stdout",
     "output_type": "stream",
     "text": [
      "Ttest_indResult(statistic=-2.307799096028551, pvalue=0.021755493100630012)\n",
      "Ttest_indResult(statistic=7.536620365311141, pvalue=7.066845273341438e-13)\n",
      "Ttest_indResult(statistic=0.8770880797246713, pvalue=0.38120715499665647)\n",
      "Ttest_indResult(statistic=-12.444660108552235, pvalue=1.7554077135412002e-28)\n",
      "Ttest_indResult(statistic=-10.821181680989048, pvalue=5.883472580382767e-23)\n",
      "Ttest_indResult(statistic=-0.5550579696214637, pvalue=0.5793078507483291)\n",
      "Ttest_indResult(statistic=-1.358537685224501, pvalue=0.17541052744624586)\n",
      "\n",
      "Oranged Mean:\n",
      "design                      1041.246154\n",
      "copy0                          7.907692\n",
      "copy1                          2.353846\n",
      "processsymbols                 2.441026\n",
      "createtree                     1.000000\n",
      "createtree_partition           1.369231\n",
      "assigncodeword                 2.364103\n",
      "assigncodeword_partition       2.271795\n",
      "obj1                          36.961221\n",
      "obj2                        1146.528205\n",
      "dtype: float64\n",
      "\n",
      "NOT Oranged Mean:\n",
      "design                      1138.320988\n",
      "copy0                          9.888889\n",
      "copy1                          1.074074\n",
      "processsymbols                 2.296296\n",
      "createtree                     1.444444\n",
      "createtree_partition           2.666667\n",
      "assigncodeword                 2.456790\n",
      "assigncodeword_partition       2.493827\n",
      "obj1                          36.515259\n",
      "obj2                        1076.111111\n",
      "dtype: float64\n"
     ]
    }
   ],
   "source": [
    "o = (fast_nodes['copy1'] <= 4) & (fast_nodes['createtree'] < 2) & (fast_nodes['createtree_partition'] < 4)\n",
    "oranged = fast_nodes[o]\n",
    "not_oranged = fast_nodes[(fast_nodes['copy1'] > 4) | (fast_nodes['createtree'] >= 2) | (fast_nodes['createtree_partition'] >= 4)]\n",
    "\n",
    "print(ttest_ind(oranged['copy0'], not_oranged['copy0']))\n",
    "print(ttest_ind(oranged['copy1'], not_oranged['copy1']))\n",
    "print(ttest_ind(oranged['processsymbols'], not_oranged['processsymbols']))\n",
    "print(ttest_ind(oranged['createtree'], not_oranged['createtree']))\n",
    "print(ttest_ind(oranged['createtree_partition'], not_oranged['createtree_partition']))\n",
    "print(ttest_ind(oranged['assigncodeword'], not_oranged['assigncodeword']))\n",
    "print(ttest_ind(oranged['assigncodeword_partition'], not_oranged['assigncodeword_partition']))\n",
    "\n",
    "print(\"\\nOranged Mean:\")\n",
    "print(oranged.mean())\n",
    "print(\"\\nNOT Oranged Mean:\")\n",
    "print(not_oranged.mean())"
   ]
  },
  {
   "cell_type": "code",
   "execution_count": null,
   "metadata": {},
   "outputs": [],
   "source": []
  },
  {
   "cell_type": "code",
   "execution_count": null,
   "metadata": {},
   "outputs": [],
   "source": []
  },
  {
   "cell_type": "code",
   "execution_count": 25,
   "metadata": {},
   "outputs": [
    {
     "name": "stdout",
     "output_type": "stream",
     "text": [
      "8\n"
     ]
    }
   ],
   "source": [
    "# identify pareto points as orange\n",
    "# color_list = [\"orange\"] * len(x)\n",
    "# for i in range(len(x)):\n",
    "#     xval = x[i]\n",
    "#     yval = y[i]\n",
    "#     for j in range(len(x)):\n",
    "#         if j == i:\n",
    "#             continue\n",
    "#         if x[j] >= xval and y[j] >= yval:\n",
    "#             color_list[i] = \"blue\"\n",
    "#             break\n",
    "# color_list[0] = \"red\"\n",
    "            \n",
    "# print(len(list(filter(lambda x: x == \"orange\" or x == \"red\", color_list))))\n"
   ]
  },
  {
   "cell_type": "code",
   "execution_count": 47,
   "metadata": {},
   "outputs": [
    {
     "data": {
      "text/plain": [
       "Text(0.5, 1.0, 'Characterizing Low Performance - Vivado2')"
      ]
     },
     "execution_count": 47,
     "metadata": {},
     "output_type": "execute_result"
    },
    {
     "data": {
      "image/png": "[encoded data removed]",
      "text/plain": [
       "<Figure size 432x288 with 1 Axes>"
      ]
     },
     "metadata": {
      "needs_background": "light"
     },
     "output_type": "display_data"
    }
   ],
   "source": [
    "fig, ax = plt.subplots()\n",
    "ax.scatter(x, y, c=color_list)\n",
    "ax.set_ylim(0, max(y))\n",
    "ax.set_xlabel(\"Throughput (KHz)\")\n",
    "ax.set_ylabel(\"1/CLBs\")\n",
    "ax.set_title(\"Characterizing Low Performance - Vivado2\")"
   ]
  },
  {
   "cell_type": "code",
   "execution_count": null,
   "metadata": {},
   "outputs": [],
   "source": []
  }
 ],
 "metadata": {
  "kernelspec": {
   "display_name": "Python 3",
   "language": "python",
   "name": "python3"
  },
  "language_info": {
   "codemirror_mode": {
    "name": "ipython",
    "version": 3
   },
   "file_extension": ".py",
   "mimetype": "text/x-python",
   "name": "python",
   "nbconvert_exporter": "python",
   "pygments_lexer": "ipython3",
   "version": "3.7.0"
  }
 },
 "nbformat": 4,
 "nbformat_minor": 2
}
