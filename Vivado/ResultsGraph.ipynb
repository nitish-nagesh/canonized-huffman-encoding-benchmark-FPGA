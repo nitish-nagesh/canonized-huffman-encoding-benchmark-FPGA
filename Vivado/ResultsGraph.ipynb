{
 "cells": [
  {
   "cell_type": "code",
   "execution_count": 1,
   "metadata": {},
   "outputs": [],
   "source": [
    "# %matplotlib notebook\n",
    "import numpy as np\n",
    "import pandas as pd\n",
    "import matplotlib.pyplot as plt"
   ]
  },
  {
   "cell_type": "code",
   "execution_count": 2,
   "metadata": {},
   "outputs": [],
   "source": [
    "# Read in csv data\n",
    "data = pd.read_csv(\"final_result_impl_huffman.csv\")\n",
    "x = list(data['obj1'])\n",
    "y = list(map(lambda x: 1/x, list(data['obj2'])))"
   ]
  },
  {
   "cell_type": "code",
   "execution_count": 33,
   "metadata": {},
   "outputs": [],
   "source": [
    "# Characterization of data points\n",
    "color_list = [\"blue\"] * len(x)\n",
    "for i in range(len(x)):\n",
    "#    if data['movenodes'][i] == 2 and data['computehistogram'][i] == 2:\n",
    "#    if data['copy1'][i] == 8 and data['computehistogram'][i] < data['computehistogram_partition'][i] :\n",
    "    if data['copy1'][i] <= 4 and data['computehistogram'][i] > 1 and data['computehistogram_partition'][i] < 4:\n",
    "        color_list[i] = \"orange\"\n",
    "    \n"
   ]
  },
  {
   "cell_type": "code",
   "execution_count": 54,
   "metadata": {},
   "outputs": [
    {
     "data": {
      "text/plain": [
       "design                         929.993517\n",
       "copy0                            4.142626\n",
       "copy1                            2.090762\n",
       "computehistogram                 2.905997\n",
       "computehistogram_partition       1.636953\n",
       "resort                           1.499190\n",
       "processsymbols                   1.427877\n",
       "movenodes                        1.500810\n",
       "assigncodeword                   1.499190\n",
       "obj1                            43.961912\n",
       "obj2                          1264.278768\n",
       "dtype: float64"
      ]
     },
     "execution_count": 54,
     "metadata": {},
     "output_type": "execute_result"
    }
   ],
   "source": [
    "# Define the fast cluster\n",
    "fast = data['obj1'] > 40.9\n",
    "fast_cluster = data[fast]\n",
    "fast_cluster.mean()"
   ]
  },
  {
   "cell_type": "code",
   "execution_count": 53,
   "metadata": {},
   "outputs": [
    {
     "data": {
      "text/plain": [
       "design                        1041.682630\n",
       "copy0                            4.142959\n",
       "copy1                            4.481773\n",
       "computehistogram                 2.080772\n",
       "computehistogram_partition       2.640457\n",
       "resort                           1.500357\n",
       "processsymbols                   1.428878\n",
       "movenodes                        1.499643\n",
       "assigncodeword                   1.500357\n",
       "obj1                            32.334491\n",
       "obj2                          1428.120086\n",
       "dtype: float64"
      ]
     },
     "execution_count": 53,
     "metadata": {},
     "output_type": "execute_result"
    }
   ],
   "source": [
    "# Identify mean differences between fast cluster and the rest\n",
    "not_fast = data['obj1'] < 40.9\n",
    "everything_else = data[not_fast]\n",
    "everything_else.mean()"
   ]
  },
  {
   "cell_type": "code",
   "execution_count": 58,
   "metadata": {},
   "outputs": [
    {
     "name": "stdout",
     "output_type": "stream",
     "text": [
      "Ttest_indResult(statistic=-0.0026119523003107653, pvalue=0.9979162246341902)\n",
      "Ttest_indResult(statistic=-20.233196937026076, pvalue=5.12807529095977e-83)\n",
      "Ttest_indResult(statistic=14.368494375581175, pvalue=1.2152665178011462e-44)\n",
      "Ttest_indResult(statistic=-17.917830644200695, pvalue=9.845879898769079e-67)\n",
      "Ttest_indResult(statistic=-0.04830349390344162, pvalue=0.9614791594352439)\n",
      "Ttest_indResult(statistic=-0.04183204675410356, pvalue=0.9666367342531175)\n",
      "Ttest_indResult(statistic=0.04830349390344162, pvalue=0.9614791594352439)\n",
      "Ttest_indResult(statistic=-0.04830349390344162, pvalue=0.9614791594352439)\n"
     ]
    }
   ],
   "source": [
    "# Utilize ttests to identify significant differences in the mean\n",
    "from scipy.stats import ttest_ind\n",
    "\n",
    "print(ttest_ind(fast_cluster['copy0'], everything_else['copy0']))\n",
    "print(ttest_ind(fast_cluster['copy1'], everything_else['copy1']))\n",
    "print(ttest_ind(fast_cluster['computehistogram'], everything_else['computehistogram']))\n",
    "print(ttest_ind(fast_cluster['computehistogram_partition'], everything_else['computehistogram_partition']))\n",
    "print(ttest_ind(fast_cluster['resort'], everything_else['resort']))\n",
    "print(ttest_ind(fast_cluster['processsymbols'], everything_else['processsymbols']))\n",
    "print(ttest_ind(fast_cluster['movenodes'], everything_else['movenodes']))\n",
    "print(ttest_ind(fast_cluster['assigncodeword'], everything_else['assigncodeword']))"
   ]
  },
  {
   "cell_type": "code",
   "execution_count": 112,
   "metadata": {},
   "outputs": [
    {
     "name": "stdout",
     "output_type": "stream",
     "text": [
      "Ttest_indResult(statistic=0.002378521154837325, pvalue=0.998102987784925)\n",
      "Ttest_indResult(statistic=5.435892936139773, pvalue=7.870621348669899e-08)\n",
      "Ttest_indResult(statistic=2.567896354850933, pvalue=0.010466830978932563)\n",
      "Ttest_indResult(statistic=-32.036266422423395, pvalue=3.279728419489052e-133)\n",
      "Ttest_indResult(statistic=0.04395113805870494, pvalue=0.9649576184755556)\n",
      "Ttest_indResult(statistic=0.038070488278311526, pvalue=0.9696438355155156)\n",
      "Ttest_indResult(statistic=-0.04395113805870494, pvalue=0.9649576184755556)\n",
      "Ttest_indResult(statistic=0.04395113805870494, pvalue=0.9649576184755556)\n",
      "\n",
      "Oranged Mean:\n",
      "design                         948.071429\n",
      "copy0                            4.142857\n",
      "copy1                            2.333333\n",
      "computehistogram                 3.000000\n",
      "computehistogram_partition       1.000000\n",
      "resort                           1.500000\n",
      "processsymbols                   1.428571\n",
      "movenodes                        1.500000\n",
      "assigncodeword                   1.500000\n",
      "obj1                            43.874479\n",
      "obj2                          1296.065476\n",
      "dtype: float64\n",
      "\n",
      "NOT Oranged Mean:\n",
      "design                         908.377224\n",
      "copy0                            4.142349\n",
      "copy1                            1.800712\n",
      "computehistogram                 2.793594\n",
      "computehistogram_partition       2.398577\n",
      "resort                           1.498221\n",
      "processsymbols                   1.427046\n",
      "movenodes                        1.501779\n",
      "assigncodeword                   1.498221\n",
      "obj1                            44.066459\n",
      "obj2                          1226.270463\n",
      "dtype: float64\n"
     ]
    }
   ],
   "source": [
    "# Separate the marked and unmarked nodes in the fast cluster to try to capture the whole cluster\n",
    "o = (fast_cluster['copy1'] <= 4) & (fast_cluster['computehistogram'] > 1) & (fast_cluster['computehistogram_partition'] == 1)\n",
    "oranged = fast_cluster[o]\n",
    "not_oranged = fast_cluster[(fast_cluster['copy1'] > 4) | (fast_cluster['computehistogram'] <= 1) | (fast_cluster['computehistogram_partition'] != 1)]\n",
    "\n",
    "print(ttest_ind(oranged['copy0'], not_oranged['copy0']))\n",
    "print(ttest_ind(oranged['copy1'], not_oranged['copy1']))\n",
    "print(ttest_ind(oranged['computehistogram'], not_oranged['computehistogram']))\n",
    "print(ttest_ind(oranged['computehistogram_partition'], not_oranged['computehistogram_partition']))\n",
    "print(ttest_ind(oranged['resort'], not_oranged['resort']))\n",
    "print(ttest_ind(oranged['processsymbols'], not_oranged['processsymbols']))\n",
    "print(ttest_ind(oranged['movenodes'], not_oranged['movenodes']))\n",
    "print(ttest_ind(oranged['assigncodeword'], not_oranged['assigncodeword']))\n",
    "\n",
    "print(\"\\nOranged Mean:\")\n",
    "print(oranged.mean())\n",
    "print(\"\\nNOT Oranged Mean:\")\n",
    "print(not_oranged.mean())\n"
   ]
  },
  {
   "cell_type": "code",
   "execution_count": 3,
   "metadata": {},
   "outputs": [
    {
     "name": "stdout",
     "output_type": "stream",
     "text": [
      "21\n"
     ]
    }
   ],
   "source": [
    "# identify pareto points as orange, initial design as red\n",
    "# color_list = [\"orange\"] * len(x)\n",
    "# for i in range(len(x)):\n",
    "#     xval = x[i]\n",
    "#     yval = y[i]\n",
    "#     for j in range(len(x)):\n",
    "#         if j == i:\n",
    "#             continue\n",
    "#         if x[j] >= xval and y[j] >= yval:\n",
    "#             color_list[i] = \"blue\"\n",
    "#             break\n",
    "# color_list[0] = \"red\"\n",
    "            \n",
    "# print(len(list(filter(lambda x: x == \"orange\" or x == \"red\", color_list))))\n"
   ]
  },
  {
   "cell_type": "code",
   "execution_count": 34,
   "metadata": {},
   "outputs": [
    {
     "data": {
      "text/plain": [
       "Text(0.5, 1.0, 'Characterizing High Performance - Vivado')"
      ]
     },
     "execution_count": 34,
     "metadata": {},
     "output_type": "execute_result"
    },
    {
     "data": {
      "image/png": "[encoded data removed]",
      "text/plain": [
       "<Figure size 432x288 with 1 Axes>"
      ]
     },
     "metadata": {
      "needs_background": "light"
     },
     "output_type": "display_data"
    }
   ],
   "source": [
    "# Graph\n",
    "fig, ax = plt.subplots()\n",
    "ax.scatter(x, y, c=color_list)\n",
    "ax.set_ylim(0, max(y))\n",
    "ax.set_xlabel(\"Throughput (KHz)\")\n",
    "ax.set_ylabel(\"1/CLBs\")\n",
    "ax.set_title(\"Characterizing High Performance - Vivado\")"
   ]
  },
  {
   "cell_type": "code",
   "execution_count": null,
   "metadata": {},
   "outputs": [],
   "source": []
  }
 ],
 "metadata": {
  "kernelspec": {
   "display_name": "Python 3",
   "language": "python",
   "name": "python3"
  },
  "language_info": {
   "codemirror_mode": {
    "name": "ipython",
    "version": 3
   },
   "file_extension": ".py",
   "mimetype": "text/x-python",
   "name": "python",
   "nbconvert_exporter": "python",
   "pygments_lexer": "ipython3",
   "version": "3.7.0"
  }
 },
 "nbformat": 4,
 "nbformat_minor": 2
}
