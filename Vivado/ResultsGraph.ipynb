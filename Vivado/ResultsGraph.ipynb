{
 "cells": [
  {
   "cell_type": "code",
   "execution_count": 6,
   "metadata": {},
   "outputs": [],
   "source": [
    "# %matplotlib notebook\n",
    "import numpy as np\n",
    "import pandas as pd\n",
    "import matplotlib.pyplot as plt"
   ]
  },
  {
   "cell_type": "code",
   "execution_count": 18,
   "metadata": {},
   "outputs": [
    {
     "name": "stdout",
     "output_type": "stream",
     "text": [
      "0        745\n",
      "1        809\n",
      "2        789\n",
      "3        827\n",
      "4        903\n",
      "5        943\n",
      "6        937\n",
      "7        968\n",
      "8        783\n",
      "9        802\n",
      "10       792\n",
      "11       880\n",
      "12       900\n",
      "13       972\n",
      "14       948\n",
      "15       992\n",
      "16       790\n",
      "17       848\n",
      "18       842\n",
      "19       915\n",
      "20       967\n",
      "21      1017\n",
      "22       995\n",
      "23      1042\n",
      "24       946\n",
      "25       949\n",
      "26       906\n",
      "27       987\n",
      "28      1043\n",
      "29      1074\n",
      "        ... \n",
      "1986    1926\n",
      "1987    1889\n",
      "1988    1871\n",
      "1989    1781\n",
      "1990    1799\n",
      "1991    1900\n",
      "1992    1913\n",
      "1993    2039\n",
      "1994    2011\n",
      "1995    2088\n",
      "1996    1962\n",
      "1997    2002\n",
      "1998    2012\n",
      "1999    2108\n",
      "2000    1718\n",
      "2001    1820\n",
      "2002    1888\n",
      "2003    1930\n",
      "2004    1783\n",
      "2005    1839\n",
      "2006    1883\n",
      "2007    1960\n",
      "2008    1839\n",
      "2009    1995\n",
      "2010    2045\n",
      "2011    2202\n",
      "2012    2066\n",
      "2013    2100\n",
      "2014    2004\n",
      "2015    2172\n",
      "Name: obj2, Length: 2016, dtype: int64\n"
     ]
    }
   ],
   "source": [
    "data = pd.read_csv(\"final_result_impl_huffman.csv\")\n",
    "data['obj2'].transform(lambda x: 1/x)\n",
    "print(data['obj2'])"
   ]
  },
  {
   "cell_type": "code",
   "execution_count": 22,
   "metadata": {},
   "outputs": [
    {
     "data": {
      "text/plain": [
       "(0, 0.0013422818791946308)"
      ]
     },
     "execution_count": 22,
     "metadata": {},
     "output_type": "execute_result"
    },
    {
     "data": {
      "image/png": "[encoded data removed]",
      "text/plain": [
       "<Figure size 432x288 with 1 Axes>"
      ]
     },
     "metadata": {
      "needs_background": "light"
     },
     "output_type": "display_data"
    }
   ],
   "source": [
    "fig, ax = plt.subplots()\n",
    "ydata = data[\"obj2\"].transform(lambda x: 1/x)\n",
    "ax.scatter(data[\"obj1\"], ydata)\n",
    "ax.set_ylim(0, max(ydata))"
   ]
  },
  {
   "cell_type": "code",
   "execution_count": null,
   "metadata": {},
   "outputs": [],
   "source": []
  }
 ],
 "metadata": {
  "kernelspec": {
   "display_name": "Python 3",
   "language": "python",
   "name": "python3"
  },
  "language_info": {
   "codemirror_mode": {
    "name": "ipython",
    "version": 3
   },
   "file_extension": ".py",
   "mimetype": "text/x-python",
   "name": "python",
   "nbconvert_exporter": "python",
   "pygments_lexer": "ipython3",
   "version": "3.7.0"
  }
 },
 "nbformat": 4,
 "nbformat_minor": 2
}
